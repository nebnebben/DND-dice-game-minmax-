{
 "cells": [
  {
   "cell_type": "code",
   "execution_count": 7,
   "metadata": {},
   "outputs": [],
   "source": [
    "import numpy as np\n",
    "twodiceprob = {}\n",
    "dice = [4,6,8,10,12,20]\n",
    "# Finds the probability in all scenarios with two dice against each other\n",
    "def findprob(d1, d2):\n",
    "    # total is the number of outcomes that could could occur\n",
    "    total = d1 * d2\n",
    "    # number of successes of d1 vs. d2\n",
    "    successes = 0\n",
    "    for i in range(d1):\n",
    "        for j in range(d2):\n",
    "            if i < j:\n",
    "                successes += 1\n",
    "            elif i == j and d1 > d2:\n",
    "                successes += 1\n",
    "    # Gets the total probability of winning\n",
    "    prob = round(successes/total,5)\n",
    "    # Gets the points of a success\n",
    "    points = round(prob * d1/2,5)\n",
    "    return (prob, points)\n",
    "\n",
    "# Stores a probability and avg. points for each \n",
    "for d1 in dice:\n",
    "    for d2 in dice:\n",
    "        if d1 != d2:\n",
    "            twodiceprob[(d1,d2)] = findprob(d1,d2)"
   ]
  },
  {
   "cell_type": "code",
   "execution_count": 8,
   "metadata": {},
   "outputs": [
    {
     "data": {
      "text/plain": [
       "(0.99975, 1.9995)"
      ]
     },
     "execution_count": 8,
     "metadata": {},
     "output_type": "execute_result"
    }
   ],
   "source": [
    "findprob(4,10000)"
   ]
  },
  {
   "cell_type": "code",
   "execution_count": 25,
   "metadata": {},
   "outputs": [
    {
     "name": "stdout",
     "output_type": "stream",
     "text": [
      "0.531176681130787\n",
      "Time taken is 0.39199280738830566\n"
     ]
    }
   ],
   "source": [
    "### This develops a min and max function, to find the max/min chance of P1 winning\n",
    "### This is useful in a zero-sum as it leads to an AI maximising the probability of winning\n",
    "### The functions below enumerate all possible situations in a small game\n",
    "\n",
    "# Stores the \n",
    "max_states = {}\n",
    "min_states = {}\n",
    "\n",
    "def checkwhowon(moves):\n",
    "    # Counts up the scores to see who's won\n",
    "    total = 0\n",
    "    for move in moves:\n",
    "        if move[2] == 1:\n",
    "            total += move[0]\n",
    "        else:\n",
    "            total -= move[1]\n",
    "            \n",
    "    if total > 0:\n",
    "        return 1\n",
    "    else:\n",
    "        return 0\n",
    "        \n",
    "def get_moveset(moves):\n",
    "    # Converts moves to tuple to be hashed\n",
    "    return tuple([tuple(x) for x in moves])\n",
    "\n",
    "\"\"\" Gets the max probability of winning from a particular situation\n",
    "Parameters: moves so far, the turn the game is on, the probability of the current state\n",
    "Returns: The largest probability of winning\n",
    "\n",
    "\"\"\"\n",
    "def max_move(moves, turn, prob):\n",
    "    # Find the move with the largest probability of winning\n",
    "    if turn == 7:\n",
    "        # If game is over, check who's won\n",
    "        result = checkwhowon(moves)\n",
    "        moveset = get_moveset(moves)\n",
    "        max_states[moveset] = [turn, result]\n",
    "        return result\n",
    "\n",
    "    # Store the result of largest probability outcome\n",
    "    # They must be >= 0\n",
    "    largest = 0\n",
    "    # Go through all possible dice, and if not illegal - branch off move\n",
    "    for d1 in dice:\n",
    "        # If it's the first turn and the dice wasn't used last by the player last round\n",
    "        if turn == 1 or d1 != moves[-1][0]:\n",
    "            # Find the avg score\n",
    "            score = min_move(moves,turn+1,prob,d1)\n",
    "            largest = max(largest, score) # Update to find largest prob of winning\n",
    "    \n",
    "    # Gets moves in a hashable form\n",
    "    moveset = get_moveset(moves)\n",
    "    # Stores the probability of winning from this position\n",
    "    max_states[moveset] = [turn, largest] # Update moveset prob\n",
    "    # Returns the probability of winning\n",
    "    return largest\n",
    "\n",
    "\"\"\" Gets the min probability of winning from a particular situation\n",
    "Parameters: moves so far, the turn the game is on, the probability of the current state, the other dice\n",
    "Returns: The smallest probability of winning\n",
    "\"\"\"\n",
    "\n",
    "def min_move(moves, turn, prob, d1):\n",
    "    \n",
    "    # Store the smallest probability outcome of winning for P1\n",
    "    # Must be <= 1\n",
    "    smallest = 1\n",
    "    for d2 in dice:\n",
    "        if  d2 != d1 and (turn == 2 or d2 != moves[-1][1]):\n",
    "\n",
    "            if moves:\n",
    "                op = moves + [[d1,d2,1]]\n",
    "            else:\n",
    "                op = [[d1,d2,1]]\n",
    "\n",
    "            p_win = twodiceprob[(d1,d2)][0]\n",
    "            win = max_move(op,turn+1,prob*p_win)\n",
    "\n",
    "            if moves:\n",
    "                op = moves + [[d1,d2,0]]\n",
    "            else:\n",
    "                op = [[d1,d2,0]]\n",
    "\n",
    "            p_loss = twodiceprob[(d2,d1)][0]\n",
    "            loss = max_move(op,turn+1,prob*p_loss)\n",
    "\n",
    "            score = p_win * win + p_loss * loss\n",
    "\n",
    "            smallest = min(smallest, score) \n",
    "    \n",
    "    moveset = get_moveset(moves + [[d1]])\n",
    "    min_states[moveset] = [turn, smallest]\n",
    "    return smallest\n",
    "\n",
    "import time\n",
    "start_time = time.time()\n",
    "print(max_move([],1,1))\n",
    "print(f\"Time taken is {time.time()-start_time}\")\n"
   ]
  },
  {
   "cell_type": "code",
   "execution_count": 36,
   "metadata": {
    "scrolled": true
   },
   "outputs": [
    {
     "name": "stdout",
     "output_type": "stream",
     "text": [
      "<__main__.GameState object at 0x00000259E6EB9860>\n"
     ]
    }
   ],
   "source": [
    "# Stores the game state at any point in the game\n",
    "\n",
    "class GameState:\n",
    "    \n",
    "    def __init__(self, p, turn, history, number=None):\n",
    "        self.moves = []\n",
    "        self.p = p\n",
    "        self.turn = turn\n",
    "        self.history = history\n",
    "        self.number = number\n",
    "    \n",
    "    def add_move(self, move):\n",
    "        self.moves.append(move)\n",
    "    \n",
    "    def best_move(self):\n",
    "        # If a terminal node\n",
    "        if self.moves == []:\n",
    "            moves = get_moveset(self.history)\n",
    "            won = checkwhowon(moves)\n",
    "            return won\n",
    "        # Make sure it isn't a chance node\n",
    "        if self.turn % 2 == 0 or type(self.number) != int:\n",
    "            if self.turn % 2 == 0:\n",
    "                res = min(self.moves, key=lambda k:k[0]).copy()\n",
    "            else:\n",
    "                res = max(self.moves, key=lambda k:k[0]).copy()\n",
    "            return res\n",
    "        return None\n",
    "    \n",
    "start = GameState(0.530984044,1,[])\n",
    "stack = [start]\n",
    "\n",
    "def p1(cur, stack):\n",
    "    moves = cur.history\n",
    "    for d in dice:\n",
    "        new_move = moves + [[d]]\n",
    "        hash_move = get_moveset(new_move)\n",
    "        \n",
    "        if hash_move in min_states:\n",
    "            result = min_states[hash_move]\n",
    "            \n",
    "            game_state = GameState(result[1], result[0], new_move, d)\n",
    "            \n",
    "            cur.add_move([result[1], game_state, game_state.number])\n",
    "            stack.append(game_state)\n",
    "            \n",
    "    return cur, stack\n",
    "\n",
    "\n",
    "# op = moves + [[d1,d2,0]]\n",
    "\n",
    "def p2(cur, stack):\n",
    "    moves = cur.history\n",
    "    for d in dice:\n",
    "        \n",
    "        # Removes most recent dice move, and replaces with both dice moves\n",
    "        new_move = moves[:-1] + [[cur.number, d]]\n",
    "        loss = moves[:-1] + [[cur.number, d, 0]]\n",
    "        win = moves[:-1] + [[cur.number, d, 1]]\n",
    "\n",
    "        hash_loss = get_moveset(loss)\n",
    "        hash_win = get_moveset(win)\n",
    " \n",
    "        if hash_loss in max_states:\n",
    "            win_result = max_states[hash_win]\n",
    "            loss_result = max_states[hash_loss]\n",
    "            \n",
    "            prob = twodiceprob[(cur.number, d)][0]\n",
    "            win_chance = prob * win_result[1] + (1-prob)* loss_result[1]\n",
    "            \n",
    "            game_state = GameState(win_chance, win_result[0], new_move, d)\n",
    "            game_state_win = GameState(win_result[1], win_result[0], win,'Win')\n",
    "            game_state_loss = GameState(loss_result[1], loss_result[0], loss,'Loss')\n",
    "            \n",
    "            # Adds in prob of happening\n",
    "            game_state.add_move([prob, game_state_win, 'win'])\n",
    "            game_state.add_move([1-prob, game_state_loss, 'loss'])\n",
    "            \n",
    "            stack.append(game_state_win)\n",
    "            stack.append(game_state_loss)\n",
    "            \n",
    "            cur.add_move([win_chance, game_state, game_state.number])\n",
    "    return cur, stack\n",
    "\n",
    "# print(stack)\n",
    "while stack:\n",
    "#     print(stack)\n",
    "    cur = stack.pop()\n",
    "    if cur.turn % 2 == 0:\n",
    "        cur, stack = p2(cur, stack)\n",
    "    else:\n",
    "        cur, stack = p1(cur, stack)\n",
    "            \n",
    "print(start)"
   ]
  },
  {
   "cell_type": "code",
   "execution_count": 39,
   "metadata": {},
   "outputs": [
    {
     "data": {
      "text/plain": [
       "[0.531176681130787, <__main__.GameState at 0x259eef4bef0>, 6]"
      ]
     },
     "execution_count": 39,
     "metadata": {},
     "output_type": "execute_result"
    }
   ],
   "source": [
    "start.best_move()[1].best_move()"
   ]
  },
  {
   "cell_type": "code",
   "execution_count": 35,
   "metadata": {
    "scrolled": true
   },
   "outputs": [
    {
     "name": "stdout",
     "output_type": "stream",
     "text": [
      "\n",
      "Num: None\n",
      "Hist: []\n",
      "Turn: 1\n",
      "0\n",
      "\n"
     ]
    }
   ],
   "source": [
    "test = start\n",
    "while(test):\n",
    "    print(\"\")\n",
    "    print(f\"Num: {test.number}\")\n",
    "    print(f\"Hist: {test.history}\")\n",
    "    print(f\"Turn: {test.turn}\")\n",
    "    if test.best_move():\n",
    "        print(f\"Best move has prob of winning: {test.best_move()[0]} with a number of {test.best_move()[2]}\")\n",
    "    else:\n",
    "        print(test.best_move())\n",
    "    print('')\n",
    "    if test.moves:\n",
    "        out = sorted(test.moves,key = lambda k:k[0])\n",
    "        for x in out:\n",
    "            print(f\"Move has prob: {x[0]} with a number of {x[2]}\")\n",
    "        print(\"\")\n",
    "        test = test.moves[1][1]\n",
    "    else:\n",
    "        test = False\n"
   ]
  },
  {
   "cell_type": "code",
   "execution_count": 40,
   "metadata": {},
   "outputs": [
    {
     "name": "stdout",
     "output_type": "stream",
     "text": [
      "size is 5.000091552734375 MBs\n"
     ]
    }
   ],
   "source": [
    "import sys\n",
    "print(f\"size is {sys.getsizeof(max_states)/(1024**2)} MBs\")\n",
    "# len(max_states)"
   ]
  },
  {
   "cell_type": "code",
   "execution_count": 6,
   "metadata": {},
   "outputs": [
    {
     "name": "stdout",
     "output_type": "stream",
     "text": [
      "(((4, 6, 0),), [3, 0.382810625])\n",
      "(((4, 6, 1),), [3, 0.6371538889])\n",
      "(((4, 8, 0),), [3, 0.3451388611])\n",
      "(((4, 8, 1),), [3, 0.6371538889])\n",
      "(((4, 10, 0),), [3, 0.302603125])\n",
      "(((4, 10, 1),), [3, 0.64843625])\n",
      "(((4, 12, 0),), [3, 0.2624985])\n",
      "(((4, 12, 1),), [3, 0.6791685000000001])\n",
      "(((4, 20, 0),), [3, 0.07291625])\n",
      "(((4, 20, 1),), [3, 0.6371538889])\n",
      "win:  0.382810625\n",
      "loss:  0.6371538889\n",
      "0.531176681130787\n",
      "win:  0.3451388611\n",
      "loss:  0.6371538889\n",
      "0.5458991927125001\n",
      "win:  0.302603125\n",
      "loss:  0.64843625\n",
      "0.5619779687500001\n",
      "win:  0.2624985\n",
      "loss:  0.6791685000000001\n",
      "0.5923636389\n",
      "win:  0.07291625\n",
      "loss:  0.6371538889\n",
      "0.5666241840374999\n"
     ]
    }
   ],
   "source": [
    "def get_right(k):\n",
    "    return [k[1][0], k[1][1]]\n",
    "\n",
    "li = sorted(max_states.items(), key= lambda k:get_right(k))\n",
    "li2 = []\n",
    "for x in li:\n",
    "    if len(x[0]) == 1 and x[0][0][0] == 4:\n",
    "        li2.append(x)\n",
    "li2.sort()\n",
    "for x in li2:\n",
    "    print(x)\n",
    "for i in range(len(li2)//2):\n",
    "    d_prob = twodiceprob[(li2[i*2][0][0][:2])][0]\n",
    "    loss = (1 - d_prob) * li2[i*2][1][1]\n",
    "    success = d_prob * li2[i*2+1][1][1]\n",
    "    prob_of_winning = loss + success\n",
    "    print(\"win: \", li2[i*2][1][1])\n",
    "    print(\"loss: \",li2[i*2+1][1][1])\n",
    "    print(prob_of_winning)"
   ]
  },
  {
   "cell_type": "code",
   "execution_count": 7,
   "metadata": {},
   "outputs": [
    {
     "data": {
      "text/plain": [
       "(((20, 12, 0), (12, 20, 1), (20, 12, 1)), [7, 1])"
      ]
     },
     "execution_count": 7,
     "metadata": {},
     "output_type": "execute_result"
    }
   ],
   "source": [
    "li[-1]"
   ]
  },
  {
   "cell_type": "code",
   "execution_count": 8,
   "metadata": {},
   "outputs": [
    {
     "data": {
      "text/plain": [
       "(((20, 12, 0), (12, 20, 0), (20,)), [6, 0.0])"
      ]
     },
     "execution_count": 8,
     "metadata": {},
     "output_type": "execute_result"
    }
   ],
   "source": [
    "def get_right(k):\n",
    "    return [k[1][0], -k[1][1]]\n",
    "\n",
    "li = sorted(min_states.items(), key= lambda k:get_right(k))\n",
    "# li[0][0]\n",
    "li[-1]"
   ]
  },
  {
   "cell_type": "code",
   "execution_count": 9,
   "metadata": {},
   "outputs": [
    {
     "data": {
      "text/plain": [
       "[0.125, <__main__.GameState at 0x25019c5a630>, 20]"
      ]
     },
     "execution_count": 9,
     "metadata": {},
     "output_type": "execute_result"
    }
   ],
   "source": [
    "start.best_move()[1].best_move()[1].moves[1][1].best_move()[1].best_move()[1].moves[1][1].best_move()"
   ]
  },
  {
   "cell_type": "code",
   "execution_count": null,
   "metadata": {
    "scrolled": true
   },
   "outputs": [],
   "source": [
    "cur = start\n",
    "while(cur.moves):\n",
    "    print(cur.history)\n",
    "    for x in cur.moves:\n",
    "        print(x)\n",
    "    print(\"Enter which one\")\n",
    "    new_move = int(input())\n",
    "    cur = cur.moves[new_move][1]"
   ]
  },
  {
   "cell_type": "code",
   "execution_count": 10,
   "metadata": {},
   "outputs": [
    {
     "name": "stdout",
     "output_type": "stream",
     "text": [
      "[]\n",
      "\n",
      "Your possible moves are [4, 6, 8, 10, 12, 20]\n",
      "Enter which one!\n",
      "\n",
      "4\n",
      "P2 is playing 6 which leads to your 0.5312 chance of winning\n",
      "Using a 4 you got 1, P2 used a 6 and got 5\n",
      "\n",
      "You won\n",
      "[[4, 6, 1]]\n",
      "\n",
      "Your possible moves are [6, 8, 10, 12, 20]\n",
      "Enter which one!\n",
      "\n",
      "6\n",
      "P2 is playing 8 which leads to your 0.5586 chance of winning\n",
      "Using a 6 you got 3, P2 used a 8 and got 5\n",
      "\n",
      "You won\n",
      "[[4, 6, 1], [6, 8, 1]]\n",
      "\n",
      "Your possible moves are [4, 8, 10, 12, 20]\n",
      "Enter which one!\n",
      "\n",
      "4\n",
      "P2 is playing 10 which leads to your 0.75 chance of winning\n",
      "Using a 4 you got 1, P2 used a 10 and got 9\n",
      "\n",
      "You won\n",
      "Player 2 Wins\n"
     ]
    }
   ],
   "source": [
    "import numpy as np\n",
    "cur = start\n",
    "\n",
    "def find_index(num):\n",
    "    # Gets array of correlated numbers\n",
    "    mov = np.array(cur.moves)[:,2]\n",
    "    return int(np.where(mov==num)[0])\n",
    "    \n",
    "    \n",
    "\n",
    "\n",
    "while(cur.moves):\n",
    "    # Your move\n",
    "    print(cur.history)\n",
    "    poss_moves = [x[2] for x in cur.moves]\n",
    "    print(f\"\\nYour possible moves are {poss_moves}\")\n",
    "#     for x in cur.moves:\n",
    "#         print(x)\n",
    "    print(\"Enter which one!\\n\")\n",
    "    new_move = int(input())\n",
    "    ind = find_index(new_move)\n",
    "    cur = cur.moves[ind][1]\n",
    "    \n",
    "    #Enemy move\n",
    "    best_move = cur.best_move()\n",
    "    print(f\"P2 is playing {best_move[2]} which leads to your {round(best_move[0],4)} chance of winning\")\n",
    "    cur = best_move[1]\n",
    "    \n",
    "    # Roll the dice\n",
    "    # Gets the last 2 dice played\n",
    "    d1 = cur.history[-1][0]\n",
    "    d2 = cur.history[-1][1]\n",
    "    ran1 = np.random.randint(1,d1+1)\n",
    "    ran2 = np.random.randint(1,d2+1)\n",
    "    print(f\"Using a {d1} you got {ran1}, P2 used a {d2} and got {ran2}\\n\")\n",
    "    won = True\n",
    "    \n",
    "    \n",
    "    if ran2 < ran1:\n",
    "        won = False\n",
    "    elif ran2 == ran1 and d1 < d2:\n",
    "        won = False\n",
    "\n",
    "    if won:\n",
    "        # Win is first in moves\n",
    "        cur = cur.moves[0][1]\n",
    "        print(\"You won\")\n",
    "    else:\n",
    "        # Win is second in moves\n",
    "        cur = cur.moves[1][1]\n",
    "        print(\"You lost\")\n",
    "print(cur.best_move())\n",
    "    "
   ]
  },
  {
   "cell_type": "code",
   "execution_count": 56,
   "metadata": {},
   "outputs": [
    {
     "name": "stdout",
     "output_type": "stream",
     "text": [
      "[[4, 6, 1], [10, 12, 1], [20, 4, 0]]\n",
      "[[4, 6, 1], [10, 12, 0], [12, 4, 0]]\n",
      "[[4, 6, 0], [6, 8, 1], [4, 6, 1]]\n",
      "[[4, 6, 1], [10, 12, 1], [20, 4, 0]]\n",
      "[[4, 6, 1], [10, 12, 0], [12, 4, 0]]\n",
      "[[4, 6, 0], [6, 8, 1], [4, 6, 0]]\n",
      "[[4, 6, 0], [6, 8, 0], [20, 4, 0]]\n",
      "[[4, 6, 0], [6, 8, 0], [20, 4, 0]]\n",
      "[[4, 6, 1], [10, 12, 1], [20, 4, 0]]\n",
      "[[4, 6, 0], [6, 8, 1], [4, 6, 1]]\n",
      "[[4, 6, 1], [10, 12, 0], [12, 4, 0]]\n",
      "[[4, 6, 1], [10, 12, 0], [12, 4, 0]]\n",
      "[[4, 6, 1], [10, 12, 1], [20, 4, 0]]\n",
      "[[4, 6, 0], [6, 8, 0], [20, 4, 1]]\n",
      "[[4, 6, 1], [10, 12, 1], [20, 4, 0]]\n",
      "[[4, 6, 1], [10, 12, 1], [20, 4, 1]]\n",
      "[[4, 6, 0], [6, 8, 0], [20, 4, 0]]\n",
      "[[4, 6, 0], [6, 8, 0], [20, 4, 0]]\n",
      "[[4, 6, 1], [10, 12, 0], [12, 4, 0]]\n",
      "[[4, 6, 1], [10, 12, 0], [12, 4, 0]]\n"
     ]
    }
   ],
   "source": [
    "# start.best_move()[1].best_move()[1].moves[1][1].best_move()[1].best_move()[1].moves[1][1].best_move()\n",
    "def game_test(cur):\n",
    "    best = cur.best_move()\n",
    "#     print(best)\n",
    "    if best == 1:\n",
    "        print(cur.history)\n",
    "        return 1\n",
    "    elif best == 0:\n",
    "        print(cur.history)\n",
    "        return 0\n",
    "    elif best == None:\n",
    "        d1 = cur.history[-1][0]\n",
    "        d2 = cur.history[-1][1]\n",
    "        ran1 = np.random.randint(1,d1+1)\n",
    "        ran2 = np.random.randint(1,d2+1)\n",
    "        \n",
    "        won = True\n",
    "        if ran2 < ran1:\n",
    "            won = False\n",
    "        elif ran2 == ran1 and d1 > d2:\n",
    "            won = False\n",
    "\n",
    "        if won:\n",
    "            # Win is first in moves\n",
    "            cur = cur.moves[0][1]\n",
    "            return game_test(cur)\n",
    "        else:\n",
    "            # Win is second in moves\n",
    "            cur = cur.moves[1][1]\n",
    "            return game_test(cur)\n",
    "    \n",
    "    return game_test(best[1])\n",
    "\n",
    "for i in range(20):\n",
    "    game_test(start)\n",
    "\n",
    "# total = 500000\n",
    "# wins = 0\n",
    "# for i in range(total):\n",
    "#     wins += game_test(start)\n",
    "#     if i % 10000 == 0 and i > 0:\n",
    "#         prob_of_winning = wins/i\n",
    "#         print(prob_of_winning)\n"
   ]
  },
  {
   "cell_type": "code",
   "execution_count": 83,
   "metadata": {},
   "outputs": [
    {
     "name": "stdout",
     "output_type": "stream",
     "text": [
      "[[4, 6, 1], [10, 12, 1], [20, 4, 1]]\n",
      "[[4, 6, 1], [10, 12, 1], [20, 4, 0]]\n",
      "[[4, 6, 1], [10, 12, 0], [12, 4, 1]]\n",
      "[[4, 6, 1], [10, 12, 0], [12, 4, 0]]\n",
      "[[4, 6, 0], [6, 8, 1], [4, 6, 1]]\n",
      "[[4, 6, 0], [6, 8, 1], [4, 6, 0]]\n",
      "[[4, 6, 0], [6, 8, 0], [20, 4, 1]]\n",
      "[[4, 6, 0], [6, 8, 0], [20, 4, 0]]\n"
     ]
    }
   ],
   "source": [
    "def all_perfect_options(cur):\n",
    "    best = cur.best_move()\n",
    "    if best == 1:\n",
    "        print(cur.history)\n",
    "        return 1\n",
    "    elif best == 0:\n",
    "        print(cur.history)\n",
    "        return 0\n",
    "    elif best == None:\n",
    "        temp = cur.moves[0][1]\n",
    "        all_perfect_options(temp)\n",
    "        temp = cur.moves[1][1]\n",
    "        all_perfect_options(temp)\n",
    "        return\n",
    "        \n",
    "    all_perfect_options(best[1])\n",
    "\n",
    "all_perfect_options(start)\n"
   ]
  },
  {
   "cell_type": "code",
   "execution_count": null,
   "metadata": {},
   "outputs": [],
   "source": []
  },
  {
   "cell_type": "code",
   "execution_count": null,
   "metadata": {},
   "outputs": [],
   "source": []
  }
 ],
 "metadata": {
  "kernelspec": {
   "display_name": "Python 3",
   "language": "python",
   "name": "python3"
  },
  "language_info": {
   "codemirror_mode": {
    "name": "ipython",
    "version": 3
   },
   "file_extension": ".py",
   "mimetype": "text/x-python",
   "name": "python",
   "nbconvert_exporter": "python",
   "pygments_lexer": "ipython3",
   "version": "3.7.3"
  }
 },
 "nbformat": 4,
 "nbformat_minor": 4
}
